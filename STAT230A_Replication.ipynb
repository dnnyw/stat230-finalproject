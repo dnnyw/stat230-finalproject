{
 "cells": [
  {
   "cell_type": "code",
   "execution_count": 7,
   "id": "36267ea5-06f1-4c01-8681-748c23a29006",
   "metadata": {},
   "outputs": [],
   "source": [
    "import pandas as pd\n",
    "import matplotlib.pyplot as plt\n",
    "import numpy as np\n",
    "pd.set_option('display.max_columns', None)\n",
    "pd.set_option('display.max_rows', 50)"
   ]
  },
  {
   "cell_type": "code",
   "execution_count": 8,
   "id": "11f6c0e1-115e-4f4b-b996-131abeb0c0e2",
   "metadata": {},
   "outputs": [],
   "source": [
    "data = pd.read_stata('matched.dta')"
   ]
  },
  {
   "cell_type": "code",
   "execution_count": 9,
   "id": "3505b61d-c20e-423b-86cb-126b1d731657",
   "metadata": {},
   "outputs": [],
   "source": [
    "temp = ['l2avgtemp', 'l3avgtemp', 'lavgtemp',  'temp6t4',  'le1avgtemp', 'le2avgtemp', \n",
    "        'le3avgtemp', 'le3temp6t4', 'le2temp6t4',  'letemp6t4', 'ltemp6t4', 'l2temp6t4', \n",
    "        'l3temp6t4', 'avgtemp', 'yearaftertemp', 'gtemp', 'yeartemp', 'heat']\n",
    "\n",
    "for col in temp:\n",
    "    new_col = col + str(10)\n",
    "    data[new_col] = data[col]/1000\n",
    "\n",
    "    \n",
    "weatherdaily =  ['avgtemp10', 'skycover', 'pressureavgsealevel', 'windspeed', 'precipitationwaterequiv', 'avgdewpt']\n",
    "weatherdailyt = ['skycover', 'avgdewpt', 'pressureavgsealevel', 'windspeed', 'precipitationwaterequiv']\n",
    "weathertemp =   ['press6t4', 'dew6t4', 'prcp6t4', 'wind6t4', 'skycover']\n",
    "weather6t4 =    ['temp6t410', 'press6t4', 'dew6t4', 'prcp6t4', 'wind6t4', 'skycover' ]\n",
    "heat =          ['heat10', 'press6t4', 'prcp6t4', 'wind6t4', 'skycover']\n",
    "dailyheat =     ['dailyheat', 'skycover', 'pressureavgsealevel', 'windspeed', 'precipitationwaterequiv' ]\n",
    "dummies =       ['dayofweek', 'nat_name', 'c_asy_type', 'year', 'cm', 'chair']\n",
    "pollutants =    ['ozone', 'co', 'pm25']\n"
   ]
  },
  {
   "cell_type": "code",
   "execution_count": 10,
   "id": "92391200-1434-449e-9aae-359fa8aea3d4",
   "metadata": {},
   "outputs": [],
   "source": [
    "dropped_data = data.copy()\n",
    "# creating the clusting variables\n",
    "dropped_data['year']  = dropped_data['date'].dt.year.astype(str)\n",
    "dropped_data['month']  = dropped_data['date'].dt.month.astype(str)\n",
    "dropped_data['week']  = dropped_data['date'].dt.isocalendar().week.astype(str)\n",
    "dropped_data['dayofweek'] = dropped_data['date'].dt.weekday\n",
    "\n",
    "# creating the clustering variables\n",
    "dropped_data['ym'] = dropped_data['year'] + dropped_data['month']\n",
    "dropped_data['cw'] = dropped_data['city'] + dropped_data['week']\n",
    "dropped_data['cy'] = dropped_data['city'] + dropped_data['year']\n",
    "dropped_data['cm'] = dropped_data['city'] + dropped_data['month']\n",
    "dropped_data['yw'] = dropped_data['year'] + dropped_data['week']\n",
    "dropped_data['cym'] = dropped_data['city'] + dropped_data['year'] + dropped_data['month']  \n",
    "dropped_data['cymw'] = dropped_data['city'] + dropped_data['year'] + dropped_data['month'] + dropped_data['week']\n",
    "dropped_data['jm'] = dropped_data['chair'].astype(str) + dropped_data['month']\n",
    "\n"
   ]
  },
  {
   "cell_type": "code",
   "execution_count": 11,
   "id": "3600352a-7465-44aa-880b-87f7b719dcd1",
   "metadata": {},
   "outputs": [],
   "source": [
    "# bys city week month year:egen meantemp=mean(temp6t4)\n",
    "\n",
    "dropped_data['mean_temp'] = dropped_data.groupby(['cymw'])['temp6t4'].transform('mean')\n",
    "dropped_data['deviations'] = dropped_data['temp6t4'] - dropped_data['mean_temp']"
   ]
  },
  {
   "cell_type": "code",
   "execution_count": 12,
   "id": "f1d11887-0f3d-4b71-a792-befa8316bd27",
   "metadata": {},
   "outputs": [],
   "source": [
    "dropped_data = dropped_data.dropna(how = 'any', subset = weather6t4 + pollutants)\n",
    "dropped_data.to_csv('regression_data.csv')"
   ]
  },
  {
   "cell_type": "markdown",
   "id": "45418476-1f06-492a-9723-fade9ff2bb62",
   "metadata": {},
   "source": [
    "## Generating Summary Tables"
   ]
  },
  {
   "cell_type": "code",
   "execution_count": 21,
   "id": "2cfd25ed-23c9-466d-b686-1e36b8fe1331",
   "metadata": {},
   "outputs": [],
   "source": [
    "sum_stat_columns = ['res', 'temp6t4', 'heat'] + weathertemp + pollutants\n",
    "mean = dropped_data[sum_stat_columns].mean()\n",
    "sd = dropped_data[sum_stat_columns].std()\n",
    "new_index = ['Grant Indicator', \n",
    "            'Temperature ($^{\\circ}$F)',\n",
    "            'Heat Index ($^{\\circ}$F)',\n",
    "            'Air Pressure (pa)',\n",
    "            'Dew point ($^{\\circ}$F)',\n",
    "            'Precipitation (mm)', \n",
    "            'Wind speed (km/h)',\n",
    "            'Sky cover (percent)',\n",
    "            'Ozone (ppm)',\n",
    "            'CO (ppm)',\n",
    "            'PM$_{2.5}$ ($\\mu$ / $m^3$)']"
   ]
  },
  {
   "cell_type": "code",
   "execution_count": 22,
   "id": "17c7559c-0bd4-4f25-9b75-5fe9a6314ff5",
   "metadata": {},
   "outputs": [],
   "source": [
    "sum_stat_table = pd.DataFrame({'Mean':mean.values, 'Standard Deviation':sd.values}, index = new_index)"
   ]
  },
  {
   "cell_type": "code",
   "execution_count": 23,
   "id": "1d7f0fdd-6f32-4f23-9558-a673bec84fbb",
   "metadata": {},
   "outputs": [
    {
     "data": {
      "text/html": [
       "<div>\n",
       "<style scoped>\n",
       "    .dataframe tbody tr th:only-of-type {\n",
       "        vertical-align: middle;\n",
       "    }\n",
       "\n",
       "    .dataframe tbody tr th {\n",
       "        vertical-align: top;\n",
       "    }\n",
       "\n",
       "    .dataframe thead th {\n",
       "        text-align: right;\n",
       "    }\n",
       "</style>\n",
       "<table border=\"1\" class=\"dataframe\">\n",
       "  <thead>\n",
       "    <tr style=\"text-align: right;\">\n",
       "      <th></th>\n",
       "      <th>Mean</th>\n",
       "      <th>Standard Deviation</th>\n",
       "    </tr>\n",
       "  </thead>\n",
       "  <tbody>\n",
       "    <tr>\n",
       "      <th>Grant Indicator</th>\n",
       "      <td>0.164261</td>\n",
       "      <td>0.370854</td>\n",
       "    </tr>\n",
       "    <tr>\n",
       "      <th>Temperature ($^{\\circ}$F)</th>\n",
       "      <td>57.370564</td>\n",
       "      <td>15.720450</td>\n",
       "    </tr>\n",
       "    <tr>\n",
       "      <th>Heat Index ($^{\\circ}$F)</th>\n",
       "      <td>57.776386</td>\n",
       "      <td>16.411543</td>\n",
       "    </tr>\n",
       "    <tr>\n",
       "      <th>Air Pressure (pa)</th>\n",
       "      <td>29.692633</td>\n",
       "      <td>0.759302</td>\n",
       "    </tr>\n",
       "    <tr>\n",
       "      <th>Dew point ($^{\\circ}$F)</th>\n",
       "      <td>49.371086</td>\n",
       "      <td>17.202080</td>\n",
       "    </tr>\n",
       "    <tr>\n",
       "      <th>Precipitation (mm)</th>\n",
       "      <td>0.002822</td>\n",
       "      <td>0.013569</td>\n",
       "    </tr>\n",
       "    <tr>\n",
       "      <th>Wind speed (km/h)</th>\n",
       "      <td>4.556642</td>\n",
       "      <td>3.440875</td>\n",
       "    </tr>\n",
       "    <tr>\n",
       "      <th>Sky cover (percent)</th>\n",
       "      <td>0.554441</td>\n",
       "      <td>0.275636</td>\n",
       "    </tr>\n",
       "    <tr>\n",
       "      <th>Ozone (ppm)</th>\n",
       "      <td>0.021971</td>\n",
       "      <td>0.011932</td>\n",
       "    </tr>\n",
       "    <tr>\n",
       "      <th>CO (ppm)</th>\n",
       "      <td>0.917596</td>\n",
       "      <td>0.496442</td>\n",
       "    </tr>\n",
       "    <tr>\n",
       "      <th>PM$_{2.5}$ ($\\mu$ / $m^3$)</th>\n",
       "      <td>14.956901</td>\n",
       "      <td>11.570034</td>\n",
       "    </tr>\n",
       "  </tbody>\n",
       "</table>\n",
       "</div>"
      ],
      "text/plain": [
       "                                 Mean  Standard Deviation\n",
       "Grant Indicator              0.164261            0.370854\n",
       "Temperature ($^{\\circ}$F)   57.370564           15.720450\n",
       "Heat Index ($^{\\circ}$F)    57.776386           16.411543\n",
       "Air Pressure (pa)           29.692633            0.759302\n",
       "Dew point ($^{\\circ}$F)     49.371086           17.202080\n",
       "Precipitation (mm)           0.002822            0.013569\n",
       "Wind speed (km/h)            4.556642            3.440875\n",
       "Sky cover (percent)          0.554441            0.275636\n",
       "Ozone (ppm)                  0.021971            0.011932\n",
       "CO (ppm)                     0.917596            0.496442\n",
       "PM$_{2.5}$ ($\\mu$ / $m^3$)  14.956901           11.570034"
      ]
     },
     "execution_count": 23,
     "metadata": {},
     "output_type": "execute_result"
    }
   ],
   "source": [
    "sum_stat_table"
   ]
  },
  {
   "cell_type": "code",
   "execution_count": 24,
   "id": "072d7790-0b12-4676-b70e-168926a428e4",
   "metadata": {},
   "outputs": [
    {
     "data": {
      "image/png": "[encoded data removed]",
      "text/plain": [
       "<Figure size 720x720 with 1 Axes>"
      ]
     },
     "metadata": {
      "needs_background": "light"
     },
     "output_type": "display_data"
    }
   ],
   "source": [
    "paper_fig3, ax = plt.subplots(figsize = (10,10))\n",
    "ax.grid(axis = 'y', zorder=0)\n",
    "ax.hist(dropped_data['temp6t4'], bins = np.arange(0,110,10), color = 'lightgrey', edgecolor = 'black', zorder=3)\n",
    "ax.set_xlabel(\"Temperature ($^\\circ$F)\")\n",
    "ax.set_xticks(np.arange(5,100,10))\n",
    "ax.set_xticklabels(['<10'] + [str(i) + '-' + str(i+10) for i in range(10, 90, 10)] + ['>90'])\n",
    "ax.set_ylabel(\"Counts\")\n",
    "ax.set_ylim([0, 65000]);\n",
    "paper_fig3.savefig('paper_fig3.jpg')"
   ]
  },
  {
   "cell_type": "code",
   "execution_count": 66,
   "id": "50168be2-6daa-4d3a-9122-b18fd1f447f8",
   "metadata": {},
   "outputs": [],
   "source": [
    "cols = temp + weatherdaily + weatherdailyt + weathertemp + weather6t4 + heat + dailyheat + dummies + pollutants\n",
    "relevant_data = dropped_data[cols]"
   ]
  },
  {
   "cell_type": "code",
   "execution_count": 69,
   "id": "f63d6aa2-3edb-4352-8df5-1ded0a53bdd5",
   "metadata": {},
   "outputs": [],
   "source": [
    "nas2 = relevant_data.isna().sum(axis = 0)"
   ]
  }
 ],
 "metadata": {
  "kernelspec": {
   "display_name": "Python 3",
   "language": "python",
   "name": "python3"
  },
  "language_info": {
   "codemirror_mode": {
    "name": "ipython",
    "version": 3
   },
   "file_extension": ".py",
   "mimetype": "text/x-python",
   "name": "python",
   "nbconvert_exporter": "python",
   "pygments_lexer": "ipython3",
   "version": "3.8.8"
  }
 },
 "nbformat": 4,
 "nbformat_minor": 5
}
